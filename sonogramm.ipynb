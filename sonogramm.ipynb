{
 "metadata": {
  "name": ""
 },
 "nbformat": 3,
 "nbformat_minor": 0,
 "worksheets": [
  {
   "cells": [
    {
     "cell_type": "code",
     "collapsed": false,
     "input": [
      "def freqchange(freq1, freq2, size=10000, N=10):\n",
      "    \"F\u00e4hrt einen Frequenz\u00fcbergang Freq1 auf Freq2 mit Rechteck (size) ab und erstellt FFT\"\n",
      "    freq1, freq2 = float(freq1), float(freq2)\n",
      "    f_sample = freq1*freq2*20\n",
      "    print \"Samplingfrequenz:\", f_sample/1000, \"kHz\"\n",
      "    f1 = tile(concatenate((ones(10*freq2), zeros(10*freq2)), axis=1), N)\n",
      "    f2 = tile(concatenate((ones(10*freq1), zeros(10*freq1)), axis=1), round(N*20*freq2/(20*freq1))+1)\n",
      "    f2 = f2[:(f2.size-(f2.size-f1.size))]\n",
      "    f = concatenate((f1, f2), axis=1)\n",
      "    f_axis = fft.fftfreq(size)\n",
      "    for i in range (0, f.size-size, 1000):\n",
      "        f_part = f[i:(i+size)]\n",
      "        FT = fft.fft(f_part)/size\n",
      "        plot(f_axis, abs(FT))\n",
      "        plt.xlim(0, 0.001)\n",
      "    return;"
     ],
     "language": "python",
     "metadata": {},
     "outputs": [],
     "prompt_number": 12
    },
    {
     "cell_type": "code",
     "collapsed": false,
     "input": [],
     "language": "python",
     "metadata": {},
     "outputs": []
    }
   ],
   "metadata": {}
  }
 ]
}