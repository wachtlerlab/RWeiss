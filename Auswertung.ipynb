{
 "metadata": {
  "name": ""
 },
 "nbformat": 3,
 "nbformat_minor": 0,
 "worksheets": [
  {
   "cells": [
    {
     "cell_type": "code",
     "collapsed": false,
     "input": [
      "import glob\n",
      "import csv\n",
      "\n",
      "#Dateiliste erstellen\n",
      "files = []\n",
      "for filename in glob.glob('*_*_*.csv'):\n",
      "    files.append(filename)\n",
      "    \n",
      "#read files\n",
      "seen = 0\n",
      "trials = 0\n",
      "catchseen = 0\n",
      "catchtrials = 0\n",
      "deltas = []\n",
      "freqs = []\n",
      "for filename in files:\n",
      "    data = csv.reader(open(filename, \"rb\"), delimiter=',')\n",
      "    data.next()\n",
      "    data.next()\n",
      "    data.next()\n",
      "    for row in data:\n",
      "        freqdiff = abs(int(row[0][0:-2])-int(row[1][0:-2]))\n",
      "        if row[3] < row[4]:\n",
      "            if row[0] != row[1]:\n",
      "                trials += 1\n",
      "                if row[5] == 'y':\n",
      "                    seen += 1\n",
      "                    deltas.append((freqdiff,1))\n",
      "                    freqs.append((int(row[0][0:-2]),int(row[1][0:-2]),1))\n",
      "                else:\n",
      "                    deltas.append((freqdiff,0))\n",
      "                    freqs.append((int(row[0][0:-2]),int(row[1][0:-2]),0))\n",
      "            if row[0] == row[1]:\n",
      "                catchtrials += 1\n",
      "                if row[5] == 'n':\n",
      "                    catchseen += 1\n",
      "                                        \n",
      "d_delta = {}\n",
      "for freq, count in deltas:\n",
      "    if freq not in d_delta:\n",
      "        d_delta[freq] = [0,0]\n",
      "    d_delta[freq][0] += 1\n",
      "    if count:\n",
      "        d_delta[freq][1] += 1\n",
      "        \n",
      "d_freqs = {}\n",
      "for freq1, freq2, count in freqs:\n",
      "    if (freq1, freq2) not in d_freqs:\n",
      "        d_freqs[(freq1, freq2)] = [0,0]\n",
      "    d_freqs[(freq1, freq2)][0] += 1\n",
      "    if count:\n",
      "        d_freqs[(freq1, freq2)][1] += 1"
     ],
     "language": "python",
     "metadata": {},
     "outputs": [
      {
       "output_type": "stream",
       "stream": "stdout",
       "text": [
        "\n"
       ]
      }
     ],
     "prompt_number": 3
    },
    {
     "cell_type": "code",
     "collapsed": false,
     "input": [
      "print 'seeing-prob:', round(100.*seen/trials, 3), '%'\n",
      "print 'catchtrial accuracy:', round(100.*catchseen/catchtrials), '%'\n",
      "\n",
      "p1 = plt.bar(range(len(d_delta)), [i for i,s in d_delta.values()], align='edge', width=0.1, color='c')\n",
      "p2 = plt.bar(range(len(d_delta)), [s for i,s in d_delta.values()], align='edge', width=-0.1, color='b')\n",
      "\n",
      "plt.xticks(range(len(d_delta)), d_delta.keys())\n",
      "plt.xlabel('$\\Delta f$ in $Hz$')\n",
      "plt.ylabel('Anzahl')\n",
      "plt.title('Richtige Antworten pro $\\Delta f$')\n",
      "plt.legend((p2, p1), ('gesehen', 'gezeigt'))"
     ],
     "language": "python",
     "metadata": {},
     "outputs": [
      {
       "output_type": "stream",
       "stream": "stdout",
       "text": [
        "seeing-prob: 58.333 %\n",
        "catchtrial accuracy: 100.0 %\n"
       ]
      },
      {
       "metadata": {},
       "output_type": "pyout",
       "prompt_number": 4,
       "text": [
        "<matplotlib.legend.Legend at 0x7f56da65b5d0>"
       ]
      },
      {
       "metadata": {},
       "output_type": "display_data",
       "png": "[encoded data removed]",
       "text": [
        "<matplotlib.figure.Figure at 0x7f56da6dc190>"
       ]
      }
     ],
     "prompt_number": 4
    },
    {
     "cell_type": "code",
     "collapsed": false,
     "input": [],
     "language": "python",
     "metadata": {},
     "outputs": []
    }
   ],
   "metadata": {}
  }
 ]
}