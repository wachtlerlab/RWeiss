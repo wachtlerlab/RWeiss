{
 "metadata": {
  "name": ""
 },
 "nbformat": 3,
 "nbformat_minor": 0,
 "worksheets": [
  {
   "cells": [
    {
     "cell_type": "code",
     "collapsed": false,
     "input": [
      "import glob\n",
      "import csv\n",
      "from operator import add\n",
      "\n",
      "#Dateiliste erstellen\n",
      "files = []\n",
      "for filename in glob.glob('/home/weiss/data/C*.csv'):\n",
      "    files.append(filename)\n",
      "    \n",
      "#read files\n",
      "seen = 0\n",
      "trials = 0\n",
      "catchseen = 0\n",
      "catchtrials = 0\n",
      "deltas = []\n",
      "freqs = []\n",
      "for filename in files:\n",
      "    data = csv.reader(open(filename, \"rb\"), delimiter=',')\n",
      "    data.next()\n",
      "    data.next()\n",
      "    data.next()\n",
      "    for row in data:\n",
      "        freqdiff = abs(int(row[0][0:-2])-int(row[1][0:-2]))\n",
      "        if row[3] < row[4]:\n",
      "            if row[0] != row[1]:\n",
      "                trials += 1\n",
      "                if row[5] == 'y':\n",
      "                    seen += 1\n",
      "                    deltas.append((freqdiff,1))\n",
      "                    freqs.append((int(row[0][0:-2]),int(row[1][0:-2]),1))\n",
      "                else:\n",
      "                    deltas.append((freqdiff,0))\n",
      "                    freqs.append((int(row[0][0:-2]),int(row[1][0:-2]),0))\n",
      "            if row[0] == row[1]:\n",
      "                catchtrials += 1\n",
      "                if row[5] == 'n':\n",
      "                    catchseen += 1\n",
      "                                        \n",
      "d_delta = {}\n",
      "for freq, count in deltas:\n",
      "    if freq not in d_delta:\n",
      "        d_delta[freq] = [0,0]\n",
      "    d_delta[freq][0] += 1\n",
      "    if count:\n",
      "        d_delta[freq][1] += 1\n",
      "        \n",
      "d_freqs = {}\n",
      "for freq1, freq2, count in freqs:\n",
      "    if (freq1, freq2) not in d_freqs:\n",
      "        d_freqs[(freq1, freq2)] = [0,0]\n",
      "    d_freqs[(freq1, freq2)][0] += 1\n",
      "    if count:\n",
      "        d_freqs[(freq1, freq2)][1] += 1\n",
      "\n",
      "print 'seeing-prob:', round(100.*seen/trials, 3), '%'\n",
      "print 'catchtrial accuracy:', round(100.*catchseen/catchtrials), '%'\n",
      "\n",
      "p1 = plt.bar(range(len(d_delta)), [d_delta[key][0] for key in sorted(d_delta)], align='edge', width=0.1, color='c')\n",
      "p2 = plt.bar(range(len(d_delta)), [d_delta[key][1] for key in sorted(d_delta)], align='edge', width=-0.1, color='b')\n",
      "\n",
      "#plt.xticks(range(len(d_delta)), sorted(d_delta))\n",
      "plt.xlabel('$\\Delta f$ in $Hz$')\n",
      "plt.ylabel('Anzahl')\n",
      "plt.title('Richtige Antworten pro $\\Delta f$')\n",
      "plt.legend((p2, p1), ('gesehen', 'gezeigt'))\n",
      "plt.grid()\n",
      "plt.ylim(0,70)\n",
      "\n",
      "figure()\n",
      "\n",
      "plt.figure(figsize=(20,4))\n",
      "p = plt.bar(range(len(d_freqs)), [float(d_freqs[key][1])/d_freqs[key][0] for key in sorted(d_freqs)], align='center', width=.2, color='m')\n",
      "plt.xticks(range(len(d_freqs)), sorted(d_freqs))\n",
      "plt.ylim(0, .8)\n",
      "plt.grid()\n",
      "plt.title('Probability of Seeing')\n",
      "plt.xlabel('Frequenzpaar')\n",
      "plt.ylabel('P(seeing)')\n",
      "#plt.tight_layout()\n",
      "\n",
      "figure()\n",
      "\n",
      "contrastsum = []\n",
      "for key in sorted(d_freqs):\n",
      "    if key[0]<key[1]:\n",
      "        contrastsum.append(map(add, d_freqs[key], d_freqs[tuple(reversed(key))]))\n",
      "                \n",
      "contrasts = [float(f[1])/f[0]-1 for f in sorted(d_freqs) if f[0]<f[1]]\n",
      "contrastplot = plt.bar(range(len(contrasts)), [(float(item[1])/item[0]) for item in contrastsum], align='center', width=.2, color='c')\n",
      "plt.xticks = (range(len(contrasts)), contrasts)\n",
      "plt.grid()\n",
      "plt.ylim(0, 1.1)\n",
      "plt.xlabel('contrast')\n",
      "plt.ylabel('P(seeing)')\n",
      "\n",
      "print list(sorted(d_delta))"
     ],
     "language": "python",
     "metadata": {},
     "outputs": [
      {
       "ename": "TypeError",
       "evalue": "'tuple' object is not callable",
       "output_type": "pyerr",
       "traceback": [
        "\u001b[0;31m---------------------------------------------------------------------------\u001b[0m\n\u001b[0;31mTypeError\u001b[0m                                 Traceback (most recent call last)",
        "\u001b[0;32m<ipython-input-27-acc1f274ed51>\u001b[0m in \u001b[0;36m<module>\u001b[0;34m()\u001b[0m\n\u001b[1;32m     71\u001b[0m \u001b[0mplt\u001b[0m\u001b[0;34m.\u001b[0m\u001b[0mfigure\u001b[0m\u001b[0;34m(\u001b[0m\u001b[0mfigsize\u001b[0m\u001b[0;34m=\u001b[0m\u001b[0;34m(\u001b[0m\u001b[0;36m20\u001b[0m\u001b[0;34m,\u001b[0m\u001b[0;36m4\u001b[0m\u001b[0;34m)\u001b[0m\u001b[0;34m)\u001b[0m\u001b[0;34m\u001b[0m\u001b[0m\n\u001b[1;32m     72\u001b[0m \u001b[0mp\u001b[0m \u001b[0;34m=\u001b[0m \u001b[0mplt\u001b[0m\u001b[0;34m.\u001b[0m\u001b[0mbar\u001b[0m\u001b[0;34m(\u001b[0m\u001b[0mrange\u001b[0m\u001b[0;34m(\u001b[0m\u001b[0mlen\u001b[0m\u001b[0;34m(\u001b[0m\u001b[0md_freqs\u001b[0m\u001b[0;34m)\u001b[0m\u001b[0;34m)\u001b[0m\u001b[0;34m,\u001b[0m \u001b[0;34m[\u001b[0m\u001b[0mfloat\u001b[0m\u001b[0;34m(\u001b[0m\u001b[0md_freqs\u001b[0m\u001b[0;34m[\u001b[0m\u001b[0mkey\u001b[0m\u001b[0;34m]\u001b[0m\u001b[0;34m[\u001b[0m\u001b[0;36m1\u001b[0m\u001b[0;34m]\u001b[0m\u001b[0;34m)\u001b[0m\u001b[0;34m/\u001b[0m\u001b[0md_freqs\u001b[0m\u001b[0;34m[\u001b[0m\u001b[0mkey\u001b[0m\u001b[0;34m]\u001b[0m\u001b[0;34m[\u001b[0m\u001b[0;36m0\u001b[0m\u001b[0;34m]\u001b[0m \u001b[0;32mfor\u001b[0m \u001b[0mkey\u001b[0m \u001b[0;32min\u001b[0m \u001b[0msorted\u001b[0m\u001b[0;34m(\u001b[0m\u001b[0md_freqs\u001b[0m\u001b[0;34m)\u001b[0m\u001b[0;34m]\u001b[0m\u001b[0;34m,\u001b[0m \u001b[0malign\u001b[0m\u001b[0;34m=\u001b[0m\u001b[0;34m'center'\u001b[0m\u001b[0;34m,\u001b[0m \u001b[0mwidth\u001b[0m\u001b[0;34m=\u001b[0m\u001b[0;36m.2\u001b[0m\u001b[0;34m,\u001b[0m \u001b[0mcolor\u001b[0m\u001b[0;34m=\u001b[0m\u001b[0;34m'm'\u001b[0m\u001b[0;34m)\u001b[0m\u001b[0;34m\u001b[0m\u001b[0m\n\u001b[0;32m---> 73\u001b[0;31m \u001b[0mplt\u001b[0m\u001b[0;34m.\u001b[0m\u001b[0mxticks\u001b[0m\u001b[0;34m(\u001b[0m\u001b[0mrange\u001b[0m\u001b[0;34m(\u001b[0m\u001b[0mlen\u001b[0m\u001b[0;34m(\u001b[0m\u001b[0md_freqs\u001b[0m\u001b[0;34m)\u001b[0m\u001b[0;34m)\u001b[0m\u001b[0;34m,\u001b[0m \u001b[0msorted\u001b[0m\u001b[0;34m(\u001b[0m\u001b[0md_freqs\u001b[0m\u001b[0;34m)\u001b[0m\u001b[0;34m)\u001b[0m\u001b[0;34m\u001b[0m\u001b[0m\n\u001b[0m\u001b[1;32m     74\u001b[0m \u001b[0mplt\u001b[0m\u001b[0;34m.\u001b[0m\u001b[0mylim\u001b[0m\u001b[0;34m(\u001b[0m\u001b[0;36m0\u001b[0m\u001b[0;34m,\u001b[0m \u001b[0;36m.8\u001b[0m\u001b[0;34m)\u001b[0m\u001b[0;34m\u001b[0m\u001b[0m\n\u001b[1;32m     75\u001b[0m \u001b[0mplt\u001b[0m\u001b[0;34m.\u001b[0m\u001b[0mgrid\u001b[0m\u001b[0;34m(\u001b[0m\u001b[0;34m)\u001b[0m\u001b[0;34m\u001b[0m\u001b[0m\n",
        "\u001b[0;31mTypeError\u001b[0m: 'tuple' object is not callable"
       ]
      },
      {
       "output_type": "stream",
       "stream": "stdout",
       "text": [
        "seeing-prob: 28.333 %\n",
        "catchtrial accuracy: 98.0 %\n"
       ]
      },
      {
       "metadata": {},
       "output_type": "display_data",
       "png": "[encoded data removed]",
       "text": [
        "<matplotlib.figure.Figure at 0x7f13605ae650>"
       ]
      },
      {
       "metadata": {},
       "output_type": "display_data",
       "text": [
        "<matplotlib.figure.Figure at 0x7f136020f7d0>"
       ]
      },
      {
       "metadata": {},
       "output_type": "display_data",
       "png": "[encoded data removed]",
       "text": [
        "<matplotlib.figure.Figure at 0x7f1360179990>"
       ]
      }
     ],
     "prompt_number": 27
    },
    {
     "cell_type": "code",
     "collapsed": false,
     "input": [],
     "language": "python",
     "metadata": {},
     "outputs": [],
     "prompt_number": 11
    }
   ],
   "metadata": {}
  }
 ]
}