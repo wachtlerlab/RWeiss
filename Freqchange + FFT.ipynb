{
 "metadata": {
  "name": ""
 },
 "nbformat": 3,
 "nbformat_minor": 0,
 "worksheets": [
  {
   "cells": [
    {
     "cell_type": "code",
     "collapsed": false,
     "input": [
      "def freqchange(freq1, freq2, N=10):\n",
      "    \"Erstellt einen Frequenz\u00fcbergang Freq1 auf Freq2 mit je N Perioden Rechteckfunktion und entsprechende FFT\"\n",
      "    freq1, freq2 = float(freq1), float(freq2)\n",
      "    f_sample = freq1*freq2*20\n",
      "    print \"Samplingfrequenz:\", f_sample/1000, \"kHz\"\n",
      "    f1 = tile(concatenate((ones(10*freq2), zeros(10*freq2)), axis=1), N)\n",
      "    f2 = tile(concatenate((ones(10*freq1), zeros(10*freq1)), axis=1), N)\n",
      "    f = concatenate((f1, f2), axis=1)\n",
      "    xaxis = linspace(0, (N/freq1)+(N/freq2), f.size)\n",
      "    plot(xaxis, f)\n",
      "    plt.xlabel('t in s')\n",
      "    plt.ylim(-0.5,1.5)\n",
      "    figure()\n",
      "    FT = fft.fft(f)/f.size\n",
      "    faxis = fft.fftfreq(f.size, (1./f_sample))\n",
      "    plot(faxis, abs(FT))\n",
      "    plt.xlim(-(freq1+freq2), (freq1+freq2))\n",
      "    plt.xlabel('Freq in Hz')\n",
      "    return f;"
     ],
     "language": "python",
     "metadata": {},
     "outputs": [],
     "prompt_number": 2
    },
    {
     "cell_type": "code",
     "collapsed": false,
     "input": [],
     "language": "python",
     "metadata": {},
     "outputs": []
    }
   ],
   "metadata": {}
  }
 ]
}