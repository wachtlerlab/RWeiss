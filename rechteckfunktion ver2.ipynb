{
 "metadata": {
  "name": ""
 },
 "nbformat": 3,
 "nbformat_minor": 0,
 "worksheets": [
  {
   "cells": [
    {
     "cell_type": "code",
     "collapsed": false,
     "input": [
      "def sqwave(f, N=10):\n",
      "    \"Erstellt Rechteckfunktion mit Frequenz f, N mal\"\n",
      "    f = float(f)\n",
      "    f_sample = 200*f\n",
      "    print \"Samplingfrequenz:\", f_sample/1000, \"kHz\"\n",
      "    squares = tile(concatenate((ones(100), zeros(100)), axis=1), N)\n",
      "    xaxis = arange(0, N/f, (1/f_sample))\n",
      "    plot(xaxis, squares)\n",
      "    return squares;"
     ],
     "language": "python",
     "metadata": {},
     "outputs": [],
     "prompt_number": 16
    },
    {
     "cell_type": "code",
     "collapsed": false,
     "input": [],
     "language": "python",
     "metadata": {},
     "outputs": [],
     "prompt_number": 118
    },
    {
     "cell_type": "code",
     "collapsed": false,
     "input": [],
     "language": "python",
     "metadata": {},
     "outputs": []
    }
   ],
   "metadata": {}
  }
 ]
}