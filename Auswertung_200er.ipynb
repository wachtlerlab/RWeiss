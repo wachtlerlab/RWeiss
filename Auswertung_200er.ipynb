{
 "metadata": {
  "name": ""
 },
 "nbformat": 3,
 "nbformat_minor": 0,
 "worksheets": [
  {
   "cells": [
    {
     "cell_type": "code",
     "collapsed": false,
     "input": [
      "import glob\n",
      "import csv\n",
      "from operator import add\n",
      "import scipy.stats as stat\n",
      "\n",
      "#Dateiliste erstellen\n",
      "files = []\n",
      "for filename in glob.glob('/home/weiss/data/*.csv'):\n",
      "    files.append(filename)\n",
      "    \n",
      "#read files\n",
      "seen = 0\n",
      "trials = 0\n",
      "catchseen = 0\n",
      "catchtrials = 0\n",
      "deltas = []\n",
      "freqs = []\n",
      "for filename in files:\n",
      "    data = csv.reader(open(filename, \"rb\"), delimiter=',')\n",
      "    data.next()\n",
      "    data.next()\n",
      "    data.next()\n",
      "    for row in data:\n",
      "        freqdiff = abs(int(row[0][0:-2])-int(row[1][0:-2]))\n",
      "        if float(row[3]) < float(row[4]):\n",
      "            if row[0] != row[1]:\n",
      "                trials += 1\n",
      "                if row[5] == 'y':\n",
      "                    seen += 1\n",
      "                    deltas.append((freqdiff,1))\n",
      "                    freqs.append((int(row[0][0:-2]),int(row[1][0:-2]),1))\n",
      "                else:\n",
      "                    deltas.append((freqdiff,0))\n",
      "                    freqs.append((int(row[0][0:-2]),int(row[1][0:-2]),0))\n",
      "            if row[0] == row[1]:\n",
      "                catchtrials += 1\n",
      "                if row[5] == 'n':\n",
      "                    catchseen += 1\n",
      "        else:\n",
      "            print row\n",
      "                                        \n",
      "d_delta = {}\n",
      "for freq, count in deltas:\n",
      "    if freq not in d_delta:\n",
      "        d_delta[freq] = [0,0]\n",
      "    d_delta[freq][0] += 1\n",
      "    if count:\n",
      "        d_delta[freq][1] += 1\n",
      "        \n",
      "d_freqs = {}\n",
      "for freq1, freq2, count in freqs:\n",
      "    if (freq1, freq2) not in d_freqs:\n",
      "        d_freqs[(freq1, freq2)] = [0,0]\n",
      "    d_freqs[(freq1, freq2)][0] += 1\n",
      "    if count:\n",
      "        d_freqs[(freq1, freq2)][1] += 1\n",
      "        \n",
      "\n",
      "d_all = d_freqs.copy()\n",
      "d_all['overall\\ncorrectness'] = (1, round(float(seen)/trials, 3))\n",
      "d_all['false\\npositives'] = (1, 1-round(float(catchseen)/catchtrials, 3))\n",
      "\n",
      "print 'seeing-prob:', round(100.*seen/trials, 3), '%'\n",
      "print 'catchtrial accuracy:', round(100.*catchseen/catchtrials), '%'\n",
      "\n",
      "delta_std = loadtxt(\"/home/weiss/data/delta_std.txt\", delimiter=', ')\n",
      "d_all_std = loadtxt(\"/home/weiss/data/d_all_std.txt\", delimiter=', ')\n",
      "contrast_std = loadtxt(\"/home/weiss/data/contrast_std.txt\", delimiter=', ')\n",
      "\n",
      "print delta_std[:,2].shape\n",
      "\n",
      "delta_std = [stat.sem(delta_std[:,i]) for i in range(delta_std.shape[1])]\n",
      "d_all_std = [stat.sem(d_all_std[:,i]) for i in range(d_all_std.shape[1])]\n",
      "contrast_std = [stat.sem(contrast_std[:,i]) for i in range(contrast_std.shape[1])]\n",
      "\n",
      "f, p = plt.subplots(1, figsize=(12,7))\n",
      "\n",
      "ids = [2, 6, 8, 15, 17, 21]\n",
      "zweihunderter = [(200,400), (400,200), (400,600), (600,400), (600,800), (800,600)]\n",
      "\n",
      "zweihundert = [(200,400), (400,200), (200,500), (500,200), (200,600), (600,200), (200,800), (800,200)]\n",
      "ids2 = [2,6,3,10,4,14,5,18]\n",
      "\n",
      "niedrige = []\n",
      "ids3 = []\n",
      "\n",
      "p.bar(range(6), [float(d_all[key][1])/d_all[key][0] for key in zweihunderter], align='center', width=.2, yerr=[d_all_std[i] for i in ids], ecolor='r')\n",
      "p.set_xticks(range(6))\n",
      "p.set_xticklabels(zweihunderter)\n",
      "p.set_ylim(0, 1.1)\n",
      "p.set_xlim(-1, 6)\n",
      "p.grid()\n",
      "#p.set_title('Probability of Seeing', fontsize=15)\n",
      "p.set_xlabel('$\\Delta$200Hz Frequenzpaare', fontsize=15)\n",
      "p.set_ylabel('P(seeing)', fontsize=15)\n",
      "\n",
      "#plt.savefig('/home/weiss/Downloads/delta200.pdf')"
     ],
     "language": "python",
     "metadata": {},
     "outputs": [
      {
       "output_type": "stream",
       "stream": "stdout",
       "text": [
        "['200.0', '800.0', '1.3', '0.6', '0.30572104454', 'y', '1']\n",
        "['400.0', '800.0', '1.4', '1.1', '1.01087594032', 'n', '0']\n",
        "seeing-prob: 52.504 %\n",
        "catchtrial accuracy: 95.0 %\n",
        "(4,)\n"
       ]
      },
      {
       "metadata": {},
       "output_type": "pyout",
       "prompt_number": 1,
       "text": [
        "<matplotlib.text.Text at 0x7f4a6b1fae10>"
       ]
      },
      {
       "metadata": {},
       "output_type": "display_data",
       "png": "[encoded data removed]",
       "text": [
        "<matplotlib.figure.Figure at 0x7f4a6b583210>"
       ]
      }
     ],
     "prompt_number": 1
    },
    {
     "cell_type": "code",
     "collapsed": false,
     "input": [],
     "language": "python",
     "metadata": {},
     "outputs": []
    }
   ],
   "metadata": {}
  }
 ]
}