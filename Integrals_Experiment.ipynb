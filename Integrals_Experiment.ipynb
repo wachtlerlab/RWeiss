{
 "metadata": {
  "name": ""
 },
 "nbformat": 3,
 "nbformat_minor": 0,
 "worksheets": [
  {
   "cells": [
    {
     "cell_type": "code",
     "collapsed": false,
     "input": [
      "import glob\n",
      "import csv\n",
      "from operator import add\n",
      "import scipy.stats as stat\n",
      "\n",
      "#Dateiliste erstellen\n",
      "files = []\n",
      "for filename in glob.glob('/home/weiss/data/*.csv'):\n",
      "    files.append(filename)\n",
      "    \n",
      "#read files\n",
      "seen = 0\n",
      "trials = 0\n",
      "catchseen = 0\n",
      "catchtrials = 0\n",
      "deltas = []\n",
      "freqs = []\n",
      "for filename in files:\n",
      "    data = csv.reader(open(filename, \"rb\"), delimiter=',')\n",
      "    data.next()\n",
      "    data.next()\n",
      "    data.next()\n",
      "    for row in data:\n",
      "        freqdiff = abs(int(row[0][0:-2])-int(row[1][0:-2]))\n",
      "        if float(row[3]) < float(row[4]):\n",
      "            if row[0] != row[1]:\n",
      "                trials += 1\n",
      "                if row[5] == 'y':\n",
      "                    seen += 1\n",
      "                    deltas.append((freqdiff,1))\n",
      "                    freqs.append((int(row[0][0:-2]),int(row[1][0:-2]),1))\n",
      "                else:\n",
      "                    deltas.append((freqdiff,0))\n",
      "                    freqs.append((int(row[0][0:-2]),int(row[1][0:-2]),0))\n",
      "            if row[0] == row[1]:\n",
      "                catchtrials += 1\n",
      "                if row[5] == 'n':\n",
      "                    catchseen += 1\n",
      "        else:\n",
      "            print row\n",
      "                                        \n",
      "d_delta = {}\n",
      "for freq, count in deltas:\n",
      "    if freq not in d_delta:\n",
      "        d_delta[freq] = [0,0]\n",
      "    d_delta[freq][0] += 1\n",
      "    if count:\n",
      "        d_delta[freq][1] += 1\n",
      "        \n",
      "d_freqs = {}\n",
      "for freq1, freq2, count in freqs:\n",
      "    if (freq1, freq2) not in d_freqs:\n",
      "        d_freqs[(freq1, freq2)] = [0,0]\n",
      "    d_freqs[(freq1, freq2)][0] += 1\n",
      "    if count:\n",
      "        d_freqs[(freq1, freq2)][1] += 1\n",
      "        \n",
      "d_all = d_freqs.copy()\n",
      "d_all['overall\\ncorrectness'] = (1, round(float(seen)/trials, 3))\n",
      "d_all['false\\npositives'] = (1, 1-round(float(catchseen)/catchtrials, 3))\n",
      "\n",
      "delta_std = loadtxt(\"/home/weiss/data/delta_std.txt\", delimiter=', ')\n",
      "d_all_std = loadtxt(\"/home/weiss/data/d_all_std.txt\", delimiter=', ')\n",
      "contrast_std = loadtxt(\"/home/weiss/data/contrast_std.txt\", delimiter=', ')\n",
      "\n",
      "delta_std = [stat.sem(delta_std[:,i]) for i in range(delta_std.shape[1])]\n",
      "d_all_std = [stat.sem(d_all_std[:,i]) for i in range(d_all_std.shape[1])]\n",
      "contrast_std = [stat.sem(contrast_std[:,i]) for i in range(contrast_std.shape[1])]\n",
      "\n",
      "\n",
      "#Simulation\n",
      "def rectwindow(freq1, freq2, f_sample=10, width=1, sig=.1):    #f_sample in kHz und width ist der Anteil des Fensters am Gesamtsignal (1 heisst, kein Fenster)\n",
      "    \"Erstellt einen Rechteckfenster-Frequenz\u00fcbergang freq1 auf freq2 mit Signall\u00e4nge 2*sig (in s) und entsprechende FFT\"\n",
      "    freq1, freq2, width = float(freq1), float(freq2), float(width)\n",
      "    f_sample = f_sample*1000.\n",
      "    f1 = tile(concatenate((ones(f_sample/(2*freq1)), zeros(f_sample/(2*freq1))), axis=1), sig*freq1)  #erste Frequenz\n",
      "    f2 = tile(concatenate((ones(f_sample/(2*freq2)), zeros(f_sample/(2*freq2))), axis=1), sig*freq2)  #zweite Frequenz\n",
      "    f = concatenate((f1, f2), axis=1)-0.5\n",
      "    window = concatenate((zeros(((width-1)/(2*width))*f.size), ones(f.size/width)), axis=1)\n",
      "    window = concatenate((window, zeros(((width-1)/(2*width))*f.size)), axis=1)\n",
      "    window = concatenate((window, zeros(f.size-window.size)), axis=1)\n",
      "    f = f*window\n",
      "    xaxis = linspace(0, 2*sig, f.size)\n",
      "    FTdata = fft.fft(f)/f.size\n",
      "    FT = FTdata[:(FTdata.size/2)]\n",
      "    faxis = fft.fftfreq(f.size, (1./f_sample))\n",
      "    faxis = faxis[:(faxis.size/2)]\n",
      "    integral = sum(abs(FT)[:600])\n",
      "    #print integral\n",
      "    return FTdata, xaxis, faxis, integral;\n",
      "\n",
      "\n",
      "integrals = []\n",
      "for item in sorted(d_freqs):\n",
      "    hin = rectwindow(item[0],item[1],168,1.,3.)\n",
      "    rueck = rectwindow(item[1],item[0],168,1.,3.)\n",
      "    integrals.append((hin[3]+rueck[3]))"
     ],
     "language": "python",
     "metadata": {},
     "outputs": [
      {
       "output_type": "stream",
       "stream": "stdout",
       "text": [
        "['200.0', '800.0', '1.3', '0.6', '0.30572104454', 'y', '1']\n",
        "['400.0', '800.0', '1.4', '1.1', '1.01087594032', 'n', '0']\n"
       ]
      }
     ],
     "prompt_number": 13
    },
    {
     "cell_type": "code",
     "collapsed": false,
     "input": [
      "figure(figsize=(7,5))\n",
      "plot(list(integrals), [float(d_freqs[key][1])/d_freqs[key][0] for key in sorted(d_freqs)], 'o')\n",
      "#plot([0,.12],[0,1], alpha=.5)\n",
      "plt.xlabel('Energie', fontsize=15)\n",
      "plt.ylabel('P', fontsize=15)\n",
      "plt.yticks(fontsize=12)\n",
      "plt.xticks(fontsize=12)\n",
      "plt.ylim(-.1,1.1)\n",
      "plt.title('x: Integral ueber das Spektrum 0-100Hz\\ny: Wahrnehmungswahrscheinlichkeit ueber 6VPs gemittelt')\n",
      "plt.tight_layout()\n",
      "#plt.savefig('/home/weiss/ba/figures/scatter_integrals_experiment.pdf')"
     ],
     "language": "python",
     "metadata": {},
     "outputs": [
      {
       "metadata": {},
       "output_type": "display_data",
       "png": "[encoded data removed]",
       "text": [
        "<matplotlib.figure.Figure at 0x7f560fc17790>"
       ]
      }
     ],
     "prompt_number": 52
    },
    {
     "cell_type": "code",
     "collapsed": false,
     "input": [
      "#iFFT\n",
      "\n",
      "def rectwindownn(freq1, freq2, f_sample=10, width=1, sig=.1):    #f_sample in kHz und width ist der Anteil des Fensters am Gesamtsignal (1 heisst, kein Fenster)\n",
      "    \"Erstellt einen Rechteckfenster-Frequenz\u00fcbergang freq1 auf freq2 mit Signall\u00e4nge 2*sig (in s) und entsprechende FFT\"\n",
      "    freq1, freq2, width = float(freq1), float(freq2), float(width)\n",
      "    f_sample = f_sample*1000.\n",
      "    f1 = tile(concatenate((ones(f_sample/(2*freq1)), zeros(f_sample/(2*freq1))), axis=1), sig*freq1)  #erste Frequenz\n",
      "    f2 = tile(concatenate((ones(f_sample/(2*freq2)), zeros(f_sample/(2*freq2))), axis=1), sig*freq2)  #zweite Frequenz\n",
      "    f = concatenate((f1, f2), axis=1)-0.5\n",
      "    window = concatenate((zeros(((width-1)/(2*width))*f.size), ones(f.size/width)), axis=1)\n",
      "    window = concatenate((window, zeros(((width-1)/(2*width))*f.size)), axis=1)\n",
      "    window = concatenate((window, zeros(f.size-window.size)), axis=1)\n",
      "    f = f*window\n",
      "    xaxis = linspace(0, 2*sig, f.size)\n",
      "    FTdata = fft.fft(f)#/f.size\n",
      "    FT = FTdata[:(FTdata.size/2)]\n",
      "    faxis = fft.fftfreq(f.size, (1./f_sample))\n",
      "    faxis = faxis[:(faxis.size/2)]\n",
      "    return FTdata, xaxis, faxis;\n",
      "\n",
      "for item in sorted(d_freqs):\n",
      "    FT, t, f = rectwindownn(item[0],item[1],168,1.,5.)\n",
      "\n",
      "u = arange(0,.12,.001)\n",
      "visfilter = .005*(((u**3)/(.005**4))*exp(-u/.005)-((u**3)/(.01**4))*exp(-u/.01))\n",
      "FTfilter = abs(fft.fft(visfilter, 1000)/21.6)[:300]\n",
      "FTfilter = concatenate((FTfilter, zeros(FT.size-300)))\n",
      "signal = fft.ifft(abs(FT)*FTfilter)"
     ],
     "language": "python",
     "metadata": {},
     "outputs": [
      {
       "metadata": {},
       "output_type": "pyout",
       "prompt_number": 47,
       "text": [
        "1680000"
       ]
      }
     ],
     "prompt_number": 47
    },
    {
     "cell_type": "code",
     "collapsed": false,
     "input": [],
     "language": "python",
     "metadata": {},
     "outputs": [],
     "prompt_number": 51
    },
    {
     "cell_type": "code",
     "collapsed": false,
     "input": [],
     "language": "python",
     "metadata": {},
     "outputs": []
    }
   ],
   "metadata": {}
  }
 ]
}